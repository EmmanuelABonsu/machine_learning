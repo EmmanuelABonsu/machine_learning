{
  "nbformat": 4,
  "nbformat_minor": 0,
  "metadata": {
    "kernelspec": {
      "display_name": "Python 3",
      "language": "python",
      "name": "python3"
    },
    "language_info": {
      "codemirror_mode": {
        "name": "ipython",
        "version": 3
      },
      "file_extension": ".py",
      "mimetype": "text/x-python",
      "name": "python",
      "nbconvert_exporter": "python",
      "pygments_lexer": "ipython3",
      "version": "3.7.9"
    },
    "colab": {
      "name": "regression.ipynb",
      "provenance": [],
      "include_colab_link": true
    }
  },
  "cells": [
    {
      "cell_type": "markdown",
      "metadata": {
        "id": "view-in-github",
        "colab_type": "text"
      },
      "source": [
        "<a href=\"https://colab.research.google.com/github/EmmanuelABonsu/machine_learning/blob/main/src/regression.ipynb\" target=\"_parent\"><img src=\"https://colab.research.google.com/assets/colab-badge.svg\" alt=\"Open In Colab\"/></a>"
      ]
    },
    {
      "cell_type": "code",
      "metadata": {
        "id": "RXxUp1b__OXZ"
      },
      "source": [
        "# Importing Libraries and modules\n",
        "import pandas as pd\n",
        "import numpy as np\n",
        "from sklearn.model_selection import train_test_split\n",
        "from sklearn import tree\n",
        "from sklearn.pipeline import Pipeline\n",
        "from sklearn.model_selection import GridSearchCV, cross_val_score\n",
        "from sklearn.preprocessing import StandardScaler,OneHotEncoder,RobustScaler\n",
        "from sklearn import linear_model\n",
        "from sklearn.pipeline import make_pipeline\n",
        "from sklearn.svm import SVR\n",
        "from sklearn.pipeline import Pipeline\n",
        "from sklearn.tree import DecisionTreeRegressor\n",
        "from sklearn.neighbors import KNeighborsRegressor\n",
        "import matplotlib.pyplot as plt\n",
        "from sklearn.ensemble import BaggingRegressor\n",
        "import seaborn as sns\n",
        "from sklearn.metrics import r2_score\n",
        "from sklearn.compose import ColumnTransformer\n",
        "from sklearn.compose import TransformedTargetRegressor\n",
        "from scipy import stats"
      ],
      "execution_count": 2,
      "outputs": []
    },
    {
      "cell_type": "code",
      "metadata": {
        "colab": {
          "base_uri": "https://localhost:8080/",
          "height": 204
        },
        "id": "NtKQLdVQ_OXb",
        "outputId": "c2423b2b-7f93-4227-97ca-07d54ff4587a"
      },
      "source": [
        "# Reading in data \n",
        "training_data = pd.read_csv('https://raw.githubusercontent.com/EmmanuelABonsu/machine_learning/main/data/regression_data/training.csv')\n",
        "training_data.head()"
      ],
      "execution_count": 3,
      "outputs": [
        {
          "output_type": "execute_result",
          "data": {
            "text/html": [
              "<div>\n",
              "<style scoped>\n",
              "    .dataframe tbody tr th:only-of-type {\n",
              "        vertical-align: middle;\n",
              "    }\n",
              "\n",
              "    .dataframe tbody tr th {\n",
              "        vertical-align: top;\n",
              "    }\n",
              "\n",
              "    .dataframe thead th {\n",
              "        text-align: right;\n",
              "    }\n",
              "</style>\n",
              "<table border=\"1\" class=\"dataframe\">\n",
              "  <thead>\n",
              "    <tr style=\"text-align: right;\">\n",
              "      <th></th>\n",
              "      <th>F1</th>\n",
              "      <th>F2</th>\n",
              "      <th>F3</th>\n",
              "      <th>F4</th>\n",
              "      <th>F5</th>\n",
              "      <th>F6</th>\n",
              "      <th>F7</th>\n",
              "      <th>F8</th>\n",
              "      <th>F9</th>\n",
              "      <th>F10</th>\n",
              "      <th>F11</th>\n",
              "      <th>F12</th>\n",
              "      <th>F13</th>\n",
              "      <th>F14</th>\n",
              "      <th>F15</th>\n",
              "      <th>F16</th>\n",
              "      <th>Target</th>\n",
              "    </tr>\n",
              "  </thead>\n",
              "  <tbody>\n",
              "    <tr>\n",
              "      <th>0</th>\n",
              "      <td>11.85</td>\n",
              "      <td>-258.09</td>\n",
              "      <td>-6.95</td>\n",
              "      <td>2557.29</td>\n",
              "      <td>Low</td>\n",
              "      <td>Europe</td>\n",
              "      <td>7.59</td>\n",
              "      <td>-28.22</td>\n",
              "      <td>-259.22</td>\n",
              "      <td>-1578.12</td>\n",
              "      <td>-141.76</td>\n",
              "      <td>9</td>\n",
              "      <td>6</td>\n",
              "      <td>20.19</td>\n",
              "      <td>169.26</td>\n",
              "      <td>1.64</td>\n",
              "      <td>999.41</td>\n",
              "    </tr>\n",
              "    <tr>\n",
              "      <th>1</th>\n",
              "      <td>11.99</td>\n",
              "      <td>-169.71</td>\n",
              "      <td>-16.06</td>\n",
              "      <td>2862.87</td>\n",
              "      <td>Low</td>\n",
              "      <td>Rest</td>\n",
              "      <td>2.57</td>\n",
              "      <td>-13.76</td>\n",
              "      <td>-321.80</td>\n",
              "      <td>-1914.16</td>\n",
              "      <td>-165.83</td>\n",
              "      <td>6</td>\n",
              "      <td>6</td>\n",
              "      <td>9.51</td>\n",
              "      <td>6259.05</td>\n",
              "      <td>0.08</td>\n",
              "      <td>0.00</td>\n",
              "    </tr>\n",
              "    <tr>\n",
              "      <th>2</th>\n",
              "      <td>3.48</td>\n",
              "      <td>-317.76</td>\n",
              "      <td>-8.14</td>\n",
              "      <td>2175.81</td>\n",
              "      <td>Medium</td>\n",
              "      <td>UK</td>\n",
              "      <td>1.60</td>\n",
              "      <td>-32.76</td>\n",
              "      <td>-253.54</td>\n",
              "      <td>457.12</td>\n",
              "      <td>-203.87</td>\n",
              "      <td>15</td>\n",
              "      <td>10</td>\n",
              "      <td>7.02</td>\n",
              "      <td>38504.82</td>\n",
              "      <td>6.40</td>\n",
              "      <td>266.29</td>\n",
              "    </tr>\n",
              "    <tr>\n",
              "      <th>3</th>\n",
              "      <td>14.75</td>\n",
              "      <td>-394.26</td>\n",
              "      <td>-5.61</td>\n",
              "      <td>1927.86</td>\n",
              "      <td>Low</td>\n",
              "      <td>UK</td>\n",
              "      <td>7.33</td>\n",
              "      <td>-13.42</td>\n",
              "      <td>-149.86</td>\n",
              "      <td>-1972.04</td>\n",
              "      <td>-145.52</td>\n",
              "      <td>6</td>\n",
              "      <td>10</td>\n",
              "      <td>33.99</td>\n",
              "      <td>20883.90</td>\n",
              "      <td>21.98</td>\n",
              "      <td>598.77</td>\n",
              "    </tr>\n",
              "    <tr>\n",
              "      <th>4</th>\n",
              "      <td>10.25</td>\n",
              "      <td>-365.46</td>\n",
              "      <td>-10.33</td>\n",
              "      <td>3187.98</td>\n",
              "      <td>High</td>\n",
              "      <td>USA</td>\n",
              "      <td>4.37</td>\n",
              "      <td>-32.66</td>\n",
              "      <td>-224.58</td>\n",
              "      <td>-2022.36</td>\n",
              "      <td>-153.94</td>\n",
              "      <td>12</td>\n",
              "      <td>10</td>\n",
              "      <td>4.29</td>\n",
              "      <td>12095.91</td>\n",
              "      <td>2167.48</td>\n",
              "      <td>396.90</td>\n",
              "    </tr>\n",
              "  </tbody>\n",
              "</table>\n",
              "</div>"
            ],
            "text/plain": [
              "      F1      F2     F3       F4      F5  ... F13    F14       F15      F16  Target\n",
              "0  11.85 -258.09  -6.95  2557.29     Low  ...   6  20.19    169.26     1.64  999.41\n",
              "1  11.99 -169.71 -16.06  2862.87     Low  ...   6   9.51   6259.05     0.08    0.00\n",
              "2   3.48 -317.76  -8.14  2175.81  Medium  ...  10   7.02  38504.82     6.40  266.29\n",
              "3  14.75 -394.26  -5.61  1927.86     Low  ...  10  33.99  20883.90    21.98  598.77\n",
              "4  10.25 -365.46 -10.33  3187.98    High  ...  10   4.29  12095.91  2167.48  396.90\n",
              "\n",
              "[5 rows x 17 columns]"
            ]
          },
          "metadata": {
            "tags": []
          },
          "execution_count": 3
        }
      ]
    },
    {
      "cell_type": "markdown",
      "metadata": {
        "id": "jZC5QWq5_OXc"
      },
      "source": [
        "## Exploratory Data Analysis\n",
        "In this section,I explore the given to training data and perform the necessary data cleaning. These steps include:\n",
        "1. Inspecting the features for missing values\n",
        "\n",
        "2. Inspecting the data type of each each feature\n",
        "\n",
        "3. Obtaining the statistical distribution of the data\n",
        "\n",
        "4. Inspecting the distribution of the of target values\n",
        "\n",
        "5. Creating a correlation matrix between the features and class labels\n",
        "\n",
        "6. Replacing categorical features with numrical values using OneHotEncoding\n",
        "\n",
        "7. Splitting the data set with 80-20 split for training and validation"
      ]
    },
    {
      "cell_type": "code",
      "metadata": {
        "colab": {
          "base_uri": "https://localhost:8080/"
        },
        "id": "t8w56PnP_OXd",
        "outputId": "8a8fcb5e-cd90-4664-8dc5-9ea4638ce507"
      },
      "source": [
        "# Check missing values in each column \n",
        "training_data.isnull().sum()"
      ],
      "execution_count": 4,
      "outputs": [
        {
          "output_type": "execute_result",
          "data": {
            "text/plain": [
              "F1        0\n",
              "F2        0\n",
              "F3        0\n",
              "F4        0\n",
              "F5        0\n",
              "F6        0\n",
              "F7        0\n",
              "F8        0\n",
              "F9        0\n",
              "F10       0\n",
              "F11       0\n",
              "F12       0\n",
              "F13       0\n",
              "F14       0\n",
              "F15       0\n",
              "F16       0\n",
              "Target    0\n",
              "dtype: int64"
            ]
          },
          "metadata": {
            "tags": []
          },
          "execution_count": 4
        }
      ]
    },
    {
      "cell_type": "code",
      "metadata": {
        "colab": {
          "base_uri": "https://localhost:8080/"
        },
        "id": "8by2mHhO_OXd",
        "outputId": "4f7d3ad0-5aeb-4b3d-e0f2-d66cbc733a00"
      },
      "source": [
        "# Inspecting data types of each column\n",
        "training_data.dtypes"
      ],
      "execution_count": 5,
      "outputs": [
        {
          "output_type": "execute_result",
          "data": {
            "text/plain": [
              "F1        float64\n",
              "F2        float64\n",
              "F3        float64\n",
              "F4        float64\n",
              "F5         object\n",
              "F6         object\n",
              "F7        float64\n",
              "F8        float64\n",
              "F9        float64\n",
              "F10       float64\n",
              "F11       float64\n",
              "F12         int64\n",
              "F13         int64\n",
              "F14       float64\n",
              "F15       float64\n",
              "F16       float64\n",
              "Target    float64\n",
              "dtype: object"
            ]
          },
          "metadata": {
            "tags": []
          },
          "execution_count": 5
        }
      ]
    },
    {
      "cell_type": "code",
      "metadata": {
        "colab": {
          "base_uri": "https://localhost:8080/",
          "height": 514
        },
        "id": "lQET2tPm_OXd",
        "outputId": "b0b9f01b-c396-4639-e62e-176af405ab47"
      },
      "source": [
        "# Chacking Basic Statistics on data \n",
        "training_data.describe().transpose()"
      ],
      "execution_count": 6,
      "outputs": [
        {
          "output_type": "execute_result",
          "data": {
            "text/html": [
              "<div>\n",
              "<style scoped>\n",
              "    .dataframe tbody tr th:only-of-type {\n",
              "        vertical-align: middle;\n",
              "    }\n",
              "\n",
              "    .dataframe tbody tr th {\n",
              "        vertical-align: top;\n",
              "    }\n",
              "\n",
              "    .dataframe thead th {\n",
              "        text-align: right;\n",
              "    }\n",
              "</style>\n",
              "<table border=\"1\" class=\"dataframe\">\n",
              "  <thead>\n",
              "    <tr style=\"text-align: right;\">\n",
              "      <th></th>\n",
              "      <th>count</th>\n",
              "      <th>mean</th>\n",
              "      <th>std</th>\n",
              "      <th>min</th>\n",
              "      <th>25%</th>\n",
              "      <th>50%</th>\n",
              "      <th>75%</th>\n",
              "      <th>max</th>\n",
              "    </tr>\n",
              "  </thead>\n",
              "  <tbody>\n",
              "    <tr>\n",
              "      <th>F1</th>\n",
              "      <td>1500.0</td>\n",
              "      <td>10.757127</td>\n",
              "      <td>3.024250</td>\n",
              "      <td>1.33</td>\n",
              "      <td>8.6400</td>\n",
              "      <td>10.760</td>\n",
              "      <td>12.8800</td>\n",
              "      <td>19.78</td>\n",
              "    </tr>\n",
              "    <tr>\n",
              "      <th>F2</th>\n",
              "      <td>1500.0</td>\n",
              "      <td>-336.287880</td>\n",
              "      <td>87.920436</td>\n",
              "      <td>-643.65</td>\n",
              "      <td>-394.3800</td>\n",
              "      <td>-333.870</td>\n",
              "      <td>-277.3500</td>\n",
              "      <td>-67.23</td>\n",
              "    </tr>\n",
              "    <tr>\n",
              "      <th>F3</th>\n",
              "      <td>1500.0</td>\n",
              "      <td>-7.285153</td>\n",
              "      <td>3.040026</td>\n",
              "      <td>-16.99</td>\n",
              "      <td>-9.2650</td>\n",
              "      <td>-7.390</td>\n",
              "      <td>-5.3300</td>\n",
              "      <td>2.78</td>\n",
              "    </tr>\n",
              "    <tr>\n",
              "      <th>F4</th>\n",
              "      <td>1500.0</td>\n",
              "      <td>2671.684440</td>\n",
              "      <td>889.404292</td>\n",
              "      <td>-310.65</td>\n",
              "      <td>2063.7975</td>\n",
              "      <td>2663.205</td>\n",
              "      <td>3286.7025</td>\n",
              "      <td>5864.37</td>\n",
              "    </tr>\n",
              "    <tr>\n",
              "      <th>F7</th>\n",
              "      <td>1500.0</td>\n",
              "      <td>4.054593</td>\n",
              "      <td>2.906426</td>\n",
              "      <td>0.04</td>\n",
              "      <td>1.9075</td>\n",
              "      <td>3.370</td>\n",
              "      <td>5.4725</td>\n",
              "      <td>22.57</td>\n",
              "    </tr>\n",
              "    <tr>\n",
              "      <th>F8</th>\n",
              "      <td>1500.0</td>\n",
              "      <td>-19.753333</td>\n",
              "      <td>8.366284</td>\n",
              "      <td>-52.26</td>\n",
              "      <td>-23.7100</td>\n",
              "      <td>-19.790</td>\n",
              "      <td>-15.9700</td>\n",
              "      <td>35.48</td>\n",
              "    </tr>\n",
              "    <tr>\n",
              "      <th>F9</th>\n",
              "      <td>1500.0</td>\n",
              "      <td>-213.443933</td>\n",
              "      <td>59.715228</td>\n",
              "      <td>-450.88</td>\n",
              "      <td>-253.5400</td>\n",
              "      <td>-213.350</td>\n",
              "      <td>-171.7100</td>\n",
              "      <td>-3.00</td>\n",
              "    </tr>\n",
              "    <tr>\n",
              "      <th>F10</th>\n",
              "      <td>1500.0</td>\n",
              "      <td>-1334.077107</td>\n",
              "      <td>602.841367</td>\n",
              "      <td>-3435.84</td>\n",
              "      <td>-1752.2250</td>\n",
              "      <td>-1326.910</td>\n",
              "      <td>-932.3800</td>\n",
              "      <td>718.02</td>\n",
              "    </tr>\n",
              "    <tr>\n",
              "      <th>F11</th>\n",
              "      <td>1500.0</td>\n",
              "      <td>-158.306867</td>\n",
              "      <td>42.241393</td>\n",
              "      <td>-348.81</td>\n",
              "      <td>-179.3800</td>\n",
              "      <td>-158.245</td>\n",
              "      <td>-138.3075</td>\n",
              "      <td>122.66</td>\n",
              "    </tr>\n",
              "    <tr>\n",
              "      <th>F12</th>\n",
              "      <td>1500.0</td>\n",
              "      <td>11.842000</td>\n",
              "      <td>5.510107</td>\n",
              "      <td>0.00</td>\n",
              "      <td>9.0000</td>\n",
              "      <td>12.000</td>\n",
              "      <td>15.0000</td>\n",
              "      <td>33.00</td>\n",
              "    </tr>\n",
              "    <tr>\n",
              "      <th>F13</th>\n",
              "      <td>1500.0</td>\n",
              "      <td>7.885333</td>\n",
              "      <td>3.620072</td>\n",
              "      <td>0.00</td>\n",
              "      <td>6.0000</td>\n",
              "      <td>8.000</td>\n",
              "      <td>10.0000</td>\n",
              "      <td>20.00</td>\n",
              "    </tr>\n",
              "    <tr>\n",
              "      <th>F14</th>\n",
              "      <td>1500.0</td>\n",
              "      <td>12.124980</td>\n",
              "      <td>8.681726</td>\n",
              "      <td>0.12</td>\n",
              "      <td>5.8350</td>\n",
              "      <td>10.245</td>\n",
              "      <td>16.4775</td>\n",
              "      <td>70.17</td>\n",
              "    </tr>\n",
              "    <tr>\n",
              "      <th>F15</th>\n",
              "      <td>1500.0</td>\n",
              "      <td>7073.884980</td>\n",
              "      <td>13329.106617</td>\n",
              "      <td>-53986.65</td>\n",
              "      <td>365.3100</td>\n",
              "      <td>7070.715</td>\n",
              "      <td>13207.1400</td>\n",
              "      <td>66359.04</td>\n",
              "    </tr>\n",
              "    <tr>\n",
              "      <th>F16</th>\n",
              "      <td>1500.0</td>\n",
              "      <td>127.205547</td>\n",
              "      <td>1548.308592</td>\n",
              "      <td>0.00</td>\n",
              "      <td>0.2600</td>\n",
              "      <td>2.020</td>\n",
              "      <td>13.6100</td>\n",
              "      <td>54949.06</td>\n",
              "    </tr>\n",
              "    <tr>\n",
              "      <th>Target</th>\n",
              "      <td>1500.0</td>\n",
              "      <td>922.082533</td>\n",
              "      <td>1092.331874</td>\n",
              "      <td>0.00</td>\n",
              "      <td>0.0000</td>\n",
              "      <td>429.570</td>\n",
              "      <td>1530.2050</td>\n",
              "      <td>3960.01</td>\n",
              "    </tr>\n",
              "  </tbody>\n",
              "</table>\n",
              "</div>"
            ],
            "text/plain": [
              "         count         mean           std  ...       50%         75%       max\n",
              "F1      1500.0    10.757127      3.024250  ...    10.760     12.8800     19.78\n",
              "F2      1500.0  -336.287880     87.920436  ...  -333.870   -277.3500    -67.23\n",
              "F3      1500.0    -7.285153      3.040026  ...    -7.390     -5.3300      2.78\n",
              "F4      1500.0  2671.684440    889.404292  ...  2663.205   3286.7025   5864.37\n",
              "F7      1500.0     4.054593      2.906426  ...     3.370      5.4725     22.57\n",
              "F8      1500.0   -19.753333      8.366284  ...   -19.790    -15.9700     35.48\n",
              "F9      1500.0  -213.443933     59.715228  ...  -213.350   -171.7100     -3.00\n",
              "F10     1500.0 -1334.077107    602.841367  ... -1326.910   -932.3800    718.02\n",
              "F11     1500.0  -158.306867     42.241393  ...  -158.245   -138.3075    122.66\n",
              "F12     1500.0    11.842000      5.510107  ...    12.000     15.0000     33.00\n",
              "F13     1500.0     7.885333      3.620072  ...     8.000     10.0000     20.00\n",
              "F14     1500.0    12.124980      8.681726  ...    10.245     16.4775     70.17\n",
              "F15     1500.0  7073.884980  13329.106617  ...  7070.715  13207.1400  66359.04\n",
              "F16     1500.0   127.205547   1548.308592  ...     2.020     13.6100  54949.06\n",
              "Target  1500.0   922.082533   1092.331874  ...   429.570   1530.2050   3960.01\n",
              "\n",
              "[15 rows x 8 columns]"
            ]
          },
          "metadata": {
            "tags": []
          },
          "execution_count": 6
        }
      ]
    },
    {
      "cell_type": "code",
      "metadata": {
        "colab": {
          "base_uri": "https://localhost:8080/",
          "height": 404
        },
        "id": "xiUactjc_OXe",
        "outputId": "c0d3a162-419a-46df-a440-fdbd6c544d27"
      },
      "source": [
        "# Plotting Distribution of Target Values\n",
        "plt.figure(figsize=(8, 6));\n",
        "plt.hist(training_data['Target']);\n",
        "plt.title('Claim Prices and Count Histogram');\n",
        "plt.xlabel('Value of Claim');\n",
        "plt.ylabel('Count');\n",
        "plt.show();"
      ],
      "execution_count": 7,
      "outputs": [
        {
          "output_type": "display_data",
          "data": {
            "image/png": "[encoded data removed]",
            "text/plain": [
              "<Figure size 576x432 with 1 Axes>"
            ]
          },
          "metadata": {
            "tags": [],
            "needs_background": "light"
          }
        }
      ]
    },
    {
      "cell_type": "code",
      "metadata": {
        "id": "9wCHlk-7_OXe"
      },
      "source": [
        "# training_data = np.log1p(training_data[])\n",
        "# training_data.head()"
      ],
      "execution_count": 8,
      "outputs": []
    },
    {
      "cell_type": "code",
      "metadata": {
        "colab": {
          "base_uri": "https://localhost:8080/",
          "height": 554
        },
        "id": "2n5O3S9V_OXe",
        "outputId": "947e11a8-1263-4f2f-8d8f-0932257d5b19"
      },
      "source": [
        "# Correlation Map of Features and Target Value\n",
        "plt.figure(figsize=(12, 9))\n",
        "correlation_matrix = training_data.corr().round(2)\n",
        "zero_mask = np.zeros_like(correlation_matrix, dtype = np.bool)\n",
        "zero_mask[np.triu_indices_from(zero_mask)] = True\n",
        "sns.heatmap(correlation_matrix, cmap=\"YlGnBu\", annot=True, mask = zero_mask)"
      ],
      "execution_count": 9,
      "outputs": [
        {
          "output_type": "execute_result",
          "data": {
            "text/plain": [
              "<matplotlib.axes._subplots.AxesSubplot at 0x7f377ab05d50>"
            ]
          },
          "metadata": {
            "tags": []
          },
          "execution_count": 9
        },
        {
          "output_type": "display_data",
          "data": {
            "image/png": "[encoded data removed]",
            "text/plain": [
              "<Figure size 864x648 with 2 Axes>"
            ]
          },
          "metadata": {
            "tags": [],
            "needs_background": "light"
          }
        }
      ]
    },
    {
      "cell_type": "code",
      "metadata": {
        "id": "Toq5D7EL_OXf"
      },
      "source": [
        "# OneHotEncoding Categorical Values\n",
        "numeric_features = ['F1','F2','F2','F3','F4','F7','F8','F8','F10','F11','F12','F13','F14','F15', 'F16']\n",
        "numeric_transformer = Pipeline(steps=[\n",
        "    ('scaler', StandardScaler())])\n",
        "\n",
        "categorical_features = ['F5', 'F6']\n",
        "categorical_transformer = OneHotEncoder(handle_unknown='ignore')\n",
        "preprocessor = ColumnTransformer(\n",
        "    transformers=[('num', numeric_transformer, numeric_features),\n",
        "                  ('cat', categorical_transformer, categorical_features)])"
      ],
      "execution_count": 10,
      "outputs": []
    },
    {
      "cell_type": "code",
      "metadata": {
        "id": "WT4LfkGN_OXf"
      },
      "source": [
        "# Defining the input and target sets\n",
        "X = training_data.drop('Target', axis = 1)\n",
        "y = training_data['Target']"
      ],
      "execution_count": 11,
      "outputs": []
    },
    {
      "cell_type": "code",
      "metadata": {
        "id": "kzIkE-E-_OXf"
      },
      "source": [
        "# Spliting data into training and validation set \n",
        "train_x, validate_x, train_y, validate_y = train_test_split(X, y,test_size=0.20, shuffle=True)"
      ],
      "execution_count": 12,
      "outputs": []
    },
    {
      "cell_type": "code",
      "metadata": {
        "id": "decc8PfW_OXf"
      },
      "source": [
        "model_train_result = []\n",
        "model_validation_result = []"
      ],
      "execution_count": 13,
      "outputs": []
    },
    {
      "cell_type": "markdown",
      "metadata": {
        "id": "2sFpltMI_OXg"
      },
      "source": [
        "## Comparative study with Linear Regression, SVR, Decision Tree and K-NN\n",
        "In this part I undertake the comparative evaluation of four models: Linear Regressor, Support Vector Regressor, Decision Tree Regressor and K-NN Regressor. For each regressor, I perform the following steps:\n",
        "1. Create a pipeline that specicifies the preprocessing steps(i.e replacing categorical values), type of scaler and the type of regressor to be used\n",
        "2. Define parameter grid of hyperparameters needed to optimized for the given regressor\n",
        "3. Perform a gridsearch with the pipeline and parameter grid to determine the best model \n",
        "4. Perform a fivefold cross validation with the best model\n",
        "5. Fit the best model with the training data set\n",
        "6. Evaluate model accuracy with the validation set \n",
        "7. Plot a scatter plot of the validation set as well as bar chart representation of the target values and the predicted value"
      ]
    },
    {
      "cell_type": "code",
      "metadata": {
        "colab": {
          "base_uri": "https://localhost:8080/"
        },
        "id": "Cpe03n03_OXg",
        "outputId": "22e448cc-fb21-4474-f8f7-12a44a9532a4"
      },
      "source": [
        "# Comparative study with Linear Regression\n",
        "pipe_lr = Pipeline(steps= [('preprocessor', preprocessor),\n",
        "                           ('sc', StandardScaler()), \n",
        "                           ('linearregression',linear_model.LinearRegression())])\n",
        "param_lr = {'linearregression__fit_intercept': [True, False],\n",
        "            'linearregression__normalize': [True, False]\n",
        "}\n",
        "gs_lr = GridSearchCV(pipe_lr, param_lr, n_jobs=-1, cv = 5)\n",
        "cv_lr = cross_val_score(gs_lr, train_x, train_y, cv=5, scoring='r2')\n",
        "gs_lr.fit(train_x, train_y)\n",
        "# Inspecting Accuracy of Model\n",
        "print(\"Accuracy score on training data\",gs_lr.score(train_x,train_y))\n",
        "print(\"Accuracy score on validation data\",gs_lr.score(validate_x,validate_y))\n",
        "print(\"Best parameter (CV score=%0.5f):\" % gs_lr.best_score_)\n",
        "print(\"Best parameters fitted to the model\",gs_lr.best_params_)\n",
        "model_train_result.append(cv_lr)"
      ],
      "execution_count": 14,
      "outputs": [
        {
          "output_type": "stream",
          "text": [
            "Accuracy score on training data 0.7872574504354987\n",
            "Accuracy score on validation data 0.7942963633626737\n",
            "Best parameter (CV score=0.77861):\n",
            "Best parameters fitted to the model {'linearregression__fit_intercept': True, 'linearregression__normalize': False}\n"
          ],
          "name": "stdout"
        }
      ]
    },
    {
      "cell_type": "code",
      "metadata": {
        "colab": {
          "base_uri": "https://localhost:8080/",
          "height": 368
        },
        "id": "1KsETa-6_OXh",
        "outputId": "784afe01-c658-486d-cd65-e4dc7d080b58"
      },
      "source": [
        "# Comparing Predicted value to actual value for Linear Regression model with plots\n",
        "fig, axes = plt.subplots(nrows=1, ncols=2, figsize=(15, 5))\n",
        "plt.scatter(validate_y, gs_lr.predict(validate_x),color='g')\n",
        "m, b = np.polyfit(validate_y, gs_lr.predict(validate_x), 1)\n",
        "plt.plot(validate_y, m*validate_y + b, '--k')\n",
        "plt.title('Scatter Plot')\n",
        "\n",
        "y_pred_lr = gs_lr.predict(validate_x)\n",
        "df_lr = pd.DataFrame({'Actual': validate_y, 'Predicted': y_pred_lr})\n",
        "df2_lr = df_lr.head(20)\n",
        "df2_lr.plot(ax= axes[0],kind='bar')"
      ],
      "execution_count": 15,
      "outputs": [
        {
          "output_type": "execute_result",
          "data": {
            "text/plain": [
              "<matplotlib.axes._subplots.AxesSubplot at 0x7f3772949650>"
            ]
          },
          "metadata": {
            "tags": []
          },
          "execution_count": 15
        },
        {
          "output_type": "display_data",
          "data": {
            "image/png": "[encoded data removed]",
            "text/plain": [
              "<Figure size 1080x360 with 2 Axes>"
            ]
          },
          "metadata": {
            "tags": [],
            "needs_background": "light"
          }
        }
      ]
    },
    {
      "cell_type": "code",
      "metadata": {
        "colab": {
          "base_uri": "https://localhost:8080/"
        },
        "id": "3Rokh-vN_OXh",
        "outputId": "ea280dd3-f4a5-4986-8e3c-d004d451f597"
      },
      "source": [
        "# Comparative study with Support Vector Regressor (SVR) \n",
        "pipe_svr = Pipeline(steps=[('preprocessor', preprocessor),\n",
        "                           ('sc', StandardScaler()), \n",
        "                           ('svr', SVR())])\n",
        "param_svr = {'svr__gamma': np.logspace(-3, 3, 5),\n",
        "             'svr__C': [1, 10, 100, 1000],\n",
        "            'svr__kernel': ['linear','rbf', 'sigmoid']\n",
        "            }\n",
        "gs_svr = GridSearchCV(pipe_svr, param_svr, n_jobs=-1, cv = 5)\n",
        "cv_svr = cross_val_score(gs_svr, train_x, train_y, cv=5, scoring='r2')\n",
        "gs_svr.fit(train_x, train_y)\n",
        "# Inspecting Accuracy of Model\n",
        "print(\"Accuracy score on training data\", gs_svr.score(train_x,train_y))\n",
        "print(\"Accuracy score on validation data\",gs_svr.score(validate_x,validate_y))\n",
        "print(\"Best parameter (CV score=%0.5f):\" % gs_svr.best_score_)\n",
        "print(\"Best parameters fitted to the model\",gs_svr.best_params_)\n",
        "model_train_result.append(cv_svr)\n"
      ],
      "execution_count": 16,
      "outputs": [
        {
          "output_type": "stream",
          "text": [
            "Accuracy score on training data 0.9526614221070512\n",
            "Accuracy score on validation data 0.892341564614286\n",
            "Best parameter (CV score=0.88610):\n",
            "Best parameters fitted to the model {'svr__C': 1000, 'svr__gamma': 0.03162277660168379, 'svr__kernel': 'rbf'}\n"
          ],
          "name": "stdout"
        }
      ]
    },
    {
      "cell_type": "code",
      "metadata": {
        "colab": {
          "base_uri": "https://localhost:8080/",
          "height": 368
        },
        "id": "rDFn040H_OXh",
        "outputId": "492d5ed0-4510-47fd-8b24-ef451ba36300"
      },
      "source": [
        "# Comparing actual values to Model's predicted values \n",
        "fig, axes = plt.subplots(nrows=1, ncols=2, figsize=(15, 5))\n",
        "plt.scatter(validate_y, gs_svr.predict(validate_x),color='g')\n",
        "m, b = np.polyfit(validate_y, gs_svr.predict(validate_x), 1)\n",
        "plt.plot(validate_y, m*validate_y + b, '--k')\n",
        "plt.title('Scatter Plot')\n",
        "\n",
        "y_pred_svr = gs_svr.predict(validate_x)\n",
        "df_svr = pd.DataFrame({'Actual': validate_y, 'Predicted': y_pred_svr})\n",
        "df2_svr = df_svr.head(20)\n",
        "df2_svr.plot(ax=axes[0],kind='bar')"
      ],
      "execution_count": 17,
      "outputs": [
        {
          "output_type": "execute_result",
          "data": {
            "text/plain": [
              "<matplotlib.axes._subplots.AxesSubplot at 0x7f376e476510>"
            ]
          },
          "metadata": {
            "tags": []
          },
          "execution_count": 17
        },
        {
          "output_type": "display_data",
          "data": {
            "image/png": "[encoded data removed]",
            "text/plain": [
              "<Figure size 1080x360 with 2 Axes>"
            ]
          },
          "metadata": {
            "tags": [],
            "needs_background": "light"
          }
        }
      ]
    },
    {
      "cell_type": "code",
      "metadata": {
        "colab": {
          "base_uri": "https://localhost:8080/"
        },
        "id": "bqxvnL2y_OXi",
        "outputId": "974be87a-e899-477d-a9b9-2200f84d3b8e"
      },
      "source": [
        "# Comparative Study with Decision Tree Regressor\n",
        "pipe_dtr = Pipeline(steps=[('preprocessor', preprocessor),\n",
        "                           ('sc', StandardScaler()), \n",
        "                           ('dec_tree', DecisionTreeRegressor())])\n",
        "param_dtr = {'dec_tree__max_depth':[2,4,6,8,10,12]}\n",
        "dt_regressor= GridSearchCV(pipe_dtr, param_dtr, n_jobs=-1,cv=5)\n",
        "dt_regressor.fit(train_x,train_y)\n",
        "cv_dtr = cross_val_score(dt_regressor, train_x, train_y, cv=5, scoring='r2')\n",
        "print(\"Accuracy score on training data\",dt_regressor.score(train_x,train_y))\n",
        "print(\"Accuracy score on validation data\",dt_regressor.score(validate_x,validate_y))\n",
        "print(\"Best parameter (CV score=%0.5f):\" % dt_regressor.best_score_)\n",
        "print(\"Best parameters fitted to the model\",dt_regressor.best_params_)\n",
        "model_train_result.append(cv_dtr)\n"
      ],
      "execution_count": 18,
      "outputs": [
        {
          "output_type": "stream",
          "text": [
            "Accuracy score on training data 0.7269309696749706\n",
            "Accuracy score on validation data 0.18830876654497763\n",
            "Best parameter (CV score=0.33663):\n",
            "Best parameters fitted to the model {'dec_tree__max_depth': 6}\n"
          ],
          "name": "stdout"
        }
      ]
    },
    {
      "cell_type": "code",
      "metadata": {
        "colab": {
          "base_uri": "https://localhost:8080/",
          "height": 368
        },
        "id": "JM8yPwu__OXi",
        "outputId": "010a31d4-108c-4872-a34f-2c07dabf0f2f"
      },
      "source": [
        "fig, axes = plt.subplots(nrows=1, ncols=2, figsize=(15, 5))\n",
        "plt.scatter(validate_y, dt_regressor.predict(validate_x),color='g')\n",
        "m, b = np.polyfit(validate_y, dt_regressor.predict(validate_x), 1)\n",
        "plt.plot(validate_y, m*validate_y + b, '--k')\n",
        "plt.title('Scatter Plot for Decision Tree')\n",
        "\n",
        "y_pred_dtr = dt_regressor.predict(validate_x)\n",
        "df_dtr = pd.DataFrame({'Actual': validate_y, 'Predicted': y_pred_dtr})\n",
        "df2_dtr = df_dtr.head(20)\n",
        "df2_dtr.plot(ax=axes[0],kind='bar')"
      ],
      "execution_count": 19,
      "outputs": [
        {
          "output_type": "execute_result",
          "data": {
            "text/plain": [
              "<matplotlib.axes._subplots.AxesSubplot at 0x7f376e2f1110>"
            ]
          },
          "metadata": {
            "tags": []
          },
          "execution_count": 19
        },
        {
          "output_type": "display_data",
          "data": {
            "image/png": "[encoded data removed]",
            "text/plain": [
              "<Figure size 1080x360 with 2 Axes>"
            ]
          },
          "metadata": {
            "tags": [],
            "needs_background": "light"
          }
        }
      ]
    },
    {
      "cell_type": "code",
      "metadata": {
        "colab": {
          "base_uri": "https://localhost:8080/"
        },
        "id": "KjFlAMDU_OXi",
        "outputId": "49193e3a-e91b-4531-9f4b-5508ac8003a5"
      },
      "source": [
        "# Comparative study with k-nn Regressor\n",
        "pipe_knn = Pipeline([('preprocessor', preprocessor),\n",
        "                     ('sc', StandardScaler()),\n",
        "                     ('regressor', KNeighborsRegressor())])\n",
        "param_knn = {'regressor__n_neighbors': list(range(1,21))}\n",
        "knn_regressor = GridSearchCV(pipe_knn, param_knn, cv=5)\n",
        "knn_regressor.fit(train_x, train_y)\n",
        "cv_knn = cross_val_score(pipe_knn, train_x, train_y, cv=5, scoring='r2')\n",
        "# Inspecting accuracy of model\n",
        "print(\"Accuracy score on training data\",knn_regressor.score(train_x,train_y))\n",
        "print(\"Accuracy score on validation data\",knn_regressor.score(validate_x,validate_y))\n",
        "print(\"Best parameter (CV score=%0.5f):\" % knn_regressor.best_score_)\n",
        "print(\"Best parameters fitted to the model\",knn_regressor.best_params_)\n",
        "model_train_result.append(cv_knn)\n"
      ],
      "execution_count": 20,
      "outputs": [
        {
          "output_type": "stream",
          "text": [
            "Accuracy score on training data 0.6487199566515782\n",
            "Accuracy score on validation data 0.5629322870093243\n",
            "Best parameter (CV score=0.54611):\n",
            "Best parameters fitted to the model {'regressor__n_neighbors': 10}\n"
          ],
          "name": "stdout"
        }
      ]
    },
    {
      "cell_type": "code",
      "metadata": {
        "colab": {
          "base_uri": "https://localhost:8080/",
          "height": 368
        },
        "id": "pBz2K_DM_OXi",
        "outputId": "68a5def5-b882-4e3e-e874-ac2e332783b0"
      },
      "source": [
        "# Comparing actual target values with model's predicted value\n",
        "fig, axes = plt.subplots(nrows=1, ncols=2, figsize=(15, 5))\n",
        "plt.scatter(validate_y, knn_regressor.predict(validate_x),color='g')\n",
        "m, b = np.polyfit(validate_y, knn_regressor.predict(validate_x), 1)\n",
        "plt.plot(validate_y, m*validate_y + b, '--k')\n",
        "plt.title('Scatter Plot for K-NN Regressor')\n",
        "# Inspecting accuracy of model\n",
        "y_pred_knn = knn_regressor.predict(validate_x)\n",
        "df_knn = pd.DataFrame({'Actual': validate_y, 'Predicted': y_pred_knn})\n",
        "df2_knn = df_knn.head(20)\n",
        "df2_knn.plot(ax=axes[0],kind='bar')"
      ],
      "execution_count": 21,
      "outputs": [
        {
          "output_type": "execute_result",
          "data": {
            "text/plain": [
              "<matplotlib.axes._subplots.AxesSubplot at 0x7f376e5178d0>"
            ]
          },
          "metadata": {
            "tags": []
          },
          "execution_count": 21
        },
        {
          "output_type": "display_data",
          "data": {
            "image/png": "[encoded data removed]",
            "text/plain": [
              "<Figure size 1080x360 with 2 Axes>"
            ]
          },
          "metadata": {
            "tags": [],
            "needs_background": "light"
          }
        }
      ]
    },
    {
      "cell_type": "markdown",
      "metadata": {
        "id": "aQ4iOgP4_OXj"
      },
      "source": [
        "## Selecting the Best Model \n",
        "For this section, I generated the box and whiskers plot of the average validation accuracies of each model. The model with the highest accuracy was picked as the best one for final prediction"
      ]
    },
    {
      "cell_type": "code",
      "metadata": {
        "colab": {
          "base_uri": "https://localhost:8080/",
          "height": 699
        },
        "id": "LlnCDD_o_OXj",
        "outputId": "789a112b-8f92-4dc7-d63b-1942fa93ada6"
      },
      "source": [
        "# Plotting Box and Whiskers graph to compare model perfomances\n",
        "model_names = ['Linear Regression', 'Support Vector', 'Decision Tree', 'K-NN']\n",
        "print(model_train_result)\n",
        "figure = plt.figure(figsize=(12, 9));\n",
        "figure.suptitle('Regression models comparison');\n",
        "ax = figure.add_subplot(111);\n",
        "plt.boxplot(model_train_result);\n",
        "ax.set_xticklabels(model_names, rotation = 45, ha=\"right\");\n",
        "ax.set_ylabel(\"Coeffient of Determination (R^2)\");\n",
        "plt.margins(0.05, 0.1);\n",
        "#plt.savefig(\"model_mse_scores.png\")\n",
        "plt.show();"
      ],
      "execution_count": 22,
      "outputs": [
        {
          "output_type": "stream",
          "text": [
            "[array([0.78167801, 0.77906666, 0.80064579, 0.76218318, 0.76336261]), array([0.88082835, 0.88289599, 0.88615576, 0.88457964, 0.89603447]), array([0.25951707, 0.40140663, 0.36085117, 0.19804287, 0.33955315]), array([0.55105545, 0.54627741, 0.53960742, 0.56529237, 0.51135033])]\n"
          ],
          "name": "stdout"
        },
        {
          "output_type": "display_data",
          "data": {
            "image/png": "[encoded data removed]",
            "text/plain": [
              "<Figure size 864x648 with 1 Axes>"
            ]
          },
          "metadata": {
            "tags": [],
            "needs_background": "light"
          }
        }
      ]
    },
    {
      "cell_type": "markdown",
      "metadata": {
        "id": "4mhK6odX_OXj"
      },
      "source": [
        "## Making Prediction with the Best Model Selected"
      ]
    },
    {
      "cell_type": "code",
      "metadata": {
        "id": "h_xKeVjX_OXk",
        "colab": {
          "base_uri": "https://localhost:8080/",
          "height": 204
        },
        "outputId": "bbddccdd-efe7-4e53-d2a7-3b8b1d60b5e3"
      },
      "source": [
        "# Reading in testing data\n",
        "test_data_original = pd.read_csv('https://raw.githubusercontent.com/EmmanuelABonsu/machine_learning/main/data/regression_data/test.csv')\n",
        "test_data = test_data_original.copy() \n",
        "test_data.head()"
      ],
      "execution_count": 23,
      "outputs": [
        {
          "output_type": "execute_result",
          "data": {
            "text/html": [
              "<div>\n",
              "<style scoped>\n",
              "    .dataframe tbody tr th:only-of-type {\n",
              "        vertical-align: middle;\n",
              "    }\n",
              "\n",
              "    .dataframe tbody tr th {\n",
              "        vertical-align: top;\n",
              "    }\n",
              "\n",
              "    .dataframe thead th {\n",
              "        text-align: right;\n",
              "    }\n",
              "</style>\n",
              "<table border=\"1\" class=\"dataframe\">\n",
              "  <thead>\n",
              "    <tr style=\"text-align: right;\">\n",
              "      <th></th>\n",
              "      <th>F1</th>\n",
              "      <th>F2</th>\n",
              "      <th>F3</th>\n",
              "      <th>F4</th>\n",
              "      <th>F5</th>\n",
              "      <th>F6</th>\n",
              "      <th>F7</th>\n",
              "      <th>F8</th>\n",
              "      <th>F9</th>\n",
              "      <th>F10</th>\n",
              "      <th>F11</th>\n",
              "      <th>F12</th>\n",
              "      <th>F13</th>\n",
              "      <th>F14</th>\n",
              "      <th>F15</th>\n",
              "      <th>F16</th>\n",
              "      <th>Target</th>\n",
              "    </tr>\n",
              "  </thead>\n",
              "  <tbody>\n",
              "    <tr>\n",
              "      <th>0</th>\n",
              "      <td>11.23</td>\n",
              "      <td>-195.54</td>\n",
              "      <td>-1.19</td>\n",
              "      <td>1468.56</td>\n",
              "      <td>Very high</td>\n",
              "      <td>USA</td>\n",
              "      <td>8.97</td>\n",
              "      <td>-23.62</td>\n",
              "      <td>-249.36</td>\n",
              "      <td>-854.18</td>\n",
              "      <td>-155.20</td>\n",
              "      <td>12</td>\n",
              "      <td>10</td>\n",
              "      <td>12.39</td>\n",
              "      <td>-3480.87</td>\n",
              "      <td>0.04</td>\n",
              "      <td>NaN</td>\n",
              "    </tr>\n",
              "    <tr>\n",
              "      <th>1</th>\n",
              "      <td>14.89</td>\n",
              "      <td>-426.24</td>\n",
              "      <td>-1.18</td>\n",
              "      <td>3049.08</td>\n",
              "      <td>Very high</td>\n",
              "      <td>USA</td>\n",
              "      <td>6.33</td>\n",
              "      <td>-39.26</td>\n",
              "      <td>-226.26</td>\n",
              "      <td>-2126.68</td>\n",
              "      <td>-159.42</td>\n",
              "      <td>9</td>\n",
              "      <td>8</td>\n",
              "      <td>5.19</td>\n",
              "      <td>8831.19</td>\n",
              "      <td>43.68</td>\n",
              "      <td>NaN</td>\n",
              "    </tr>\n",
              "    <tr>\n",
              "      <th>2</th>\n",
              "      <td>6.76</td>\n",
              "      <td>-493.47</td>\n",
              "      <td>-13.55</td>\n",
              "      <td>3197.13</td>\n",
              "      <td>Very low</td>\n",
              "      <td>USA</td>\n",
              "      <td>1.77</td>\n",
              "      <td>-25.84</td>\n",
              "      <td>-238.30</td>\n",
              "      <td>-2270.78</td>\n",
              "      <td>-212.73</td>\n",
              "      <td>12</td>\n",
              "      <td>10</td>\n",
              "      <td>3.30</td>\n",
              "      <td>-4468.44</td>\n",
              "      <td>0.52</td>\n",
              "      <td>NaN</td>\n",
              "    </tr>\n",
              "    <tr>\n",
              "      <th>3</th>\n",
              "      <td>15.12</td>\n",
              "      <td>-320.04</td>\n",
              "      <td>-12.17</td>\n",
              "      <td>2436.00</td>\n",
              "      <td>Very low</td>\n",
              "      <td>Rest</td>\n",
              "      <td>5.42</td>\n",
              "      <td>-17.32</td>\n",
              "      <td>-203.64</td>\n",
              "      <td>-304.24</td>\n",
              "      <td>-100.34</td>\n",
              "      <td>18</td>\n",
              "      <td>12</td>\n",
              "      <td>6.51</td>\n",
              "      <td>22851.60</td>\n",
              "      <td>758.54</td>\n",
              "      <td>NaN</td>\n",
              "    </tr>\n",
              "    <tr>\n",
              "      <th>4</th>\n",
              "      <td>10.12</td>\n",
              "      <td>-387.99</td>\n",
              "      <td>-7.11</td>\n",
              "      <td>2800.89</td>\n",
              "      <td>Very low</td>\n",
              "      <td>Europe</td>\n",
              "      <td>1.39</td>\n",
              "      <td>-12.78</td>\n",
              "      <td>-265.16</td>\n",
              "      <td>-1419.76</td>\n",
              "      <td>-137.49</td>\n",
              "      <td>0</td>\n",
              "      <td>14</td>\n",
              "      <td>14.22</td>\n",
              "      <td>24396.09</td>\n",
              "      <td>0.68</td>\n",
              "      <td>NaN</td>\n",
              "    </tr>\n",
              "  </tbody>\n",
              "</table>\n",
              "</div>"
            ],
            "text/plain": [
              "      F1      F2     F3       F4  ...    F14       F15     F16  Target\n",
              "0  11.23 -195.54  -1.19  1468.56  ...  12.39  -3480.87    0.04     NaN\n",
              "1  14.89 -426.24  -1.18  3049.08  ...   5.19   8831.19   43.68     NaN\n",
              "2   6.76 -493.47 -13.55  3197.13  ...   3.30  -4468.44    0.52     NaN\n",
              "3  15.12 -320.04 -12.17  2436.00  ...   6.51  22851.60  758.54     NaN\n",
              "4  10.12 -387.99  -7.11  2800.89  ...  14.22  24396.09    0.68     NaN\n",
              "\n",
              "[5 rows x 17 columns]"
            ]
          },
          "metadata": {
            "tags": []
          },
          "execution_count": 23
        }
      ]
    },
    {
      "cell_type": "code",
      "metadata": {
        "id": "Or-yX-SU_OXk",
        "colab": {
          "base_uri": "https://localhost:8080/",
          "height": 359
        },
        "outputId": "deb5c2a0-9200-4859-8e30-0e1cc231148a"
      },
      "source": [
        "# Making Prediction with SVR\n",
        "test_data_without_target = test_data.drop('Target', axis=1)\n",
        "test_data_without_target.head(10)"
      ],
      "execution_count": 24,
      "outputs": [
        {
          "output_type": "execute_result",
          "data": {
            "text/html": [
              "<div>\n",
              "<style scoped>\n",
              "    .dataframe tbody tr th:only-of-type {\n",
              "        vertical-align: middle;\n",
              "    }\n",
              "\n",
              "    .dataframe tbody tr th {\n",
              "        vertical-align: top;\n",
              "    }\n",
              "\n",
              "    .dataframe thead th {\n",
              "        text-align: right;\n",
              "    }\n",
              "</style>\n",
              "<table border=\"1\" class=\"dataframe\">\n",
              "  <thead>\n",
              "    <tr style=\"text-align: right;\">\n",
              "      <th></th>\n",
              "      <th>F1</th>\n",
              "      <th>F2</th>\n",
              "      <th>F3</th>\n",
              "      <th>F4</th>\n",
              "      <th>F5</th>\n",
              "      <th>F6</th>\n",
              "      <th>F7</th>\n",
              "      <th>F8</th>\n",
              "      <th>F9</th>\n",
              "      <th>F10</th>\n",
              "      <th>F11</th>\n",
              "      <th>F12</th>\n",
              "      <th>F13</th>\n",
              "      <th>F14</th>\n",
              "      <th>F15</th>\n",
              "      <th>F16</th>\n",
              "    </tr>\n",
              "  </thead>\n",
              "  <tbody>\n",
              "    <tr>\n",
              "      <th>0</th>\n",
              "      <td>11.23</td>\n",
              "      <td>-195.54</td>\n",
              "      <td>-1.19</td>\n",
              "      <td>1468.56</td>\n",
              "      <td>Very high</td>\n",
              "      <td>USA</td>\n",
              "      <td>8.97</td>\n",
              "      <td>-23.62</td>\n",
              "      <td>-249.36</td>\n",
              "      <td>-854.18</td>\n",
              "      <td>-155.20</td>\n",
              "      <td>12</td>\n",
              "      <td>10</td>\n",
              "      <td>12.39</td>\n",
              "      <td>-3480.87</td>\n",
              "      <td>0.04</td>\n",
              "    </tr>\n",
              "    <tr>\n",
              "      <th>1</th>\n",
              "      <td>14.89</td>\n",
              "      <td>-426.24</td>\n",
              "      <td>-1.18</td>\n",
              "      <td>3049.08</td>\n",
              "      <td>Very high</td>\n",
              "      <td>USA</td>\n",
              "      <td>6.33</td>\n",
              "      <td>-39.26</td>\n",
              "      <td>-226.26</td>\n",
              "      <td>-2126.68</td>\n",
              "      <td>-159.42</td>\n",
              "      <td>9</td>\n",
              "      <td>8</td>\n",
              "      <td>5.19</td>\n",
              "      <td>8831.19</td>\n",
              "      <td>43.68</td>\n",
              "    </tr>\n",
              "    <tr>\n",
              "      <th>2</th>\n",
              "      <td>6.76</td>\n",
              "      <td>-493.47</td>\n",
              "      <td>-13.55</td>\n",
              "      <td>3197.13</td>\n",
              "      <td>Very low</td>\n",
              "      <td>USA</td>\n",
              "      <td>1.77</td>\n",
              "      <td>-25.84</td>\n",
              "      <td>-238.30</td>\n",
              "      <td>-2270.78</td>\n",
              "      <td>-212.73</td>\n",
              "      <td>12</td>\n",
              "      <td>10</td>\n",
              "      <td>3.30</td>\n",
              "      <td>-4468.44</td>\n",
              "      <td>0.52</td>\n",
              "    </tr>\n",
              "    <tr>\n",
              "      <th>3</th>\n",
              "      <td>15.12</td>\n",
              "      <td>-320.04</td>\n",
              "      <td>-12.17</td>\n",
              "      <td>2436.00</td>\n",
              "      <td>Very low</td>\n",
              "      <td>Rest</td>\n",
              "      <td>5.42</td>\n",
              "      <td>-17.32</td>\n",
              "      <td>-203.64</td>\n",
              "      <td>-304.24</td>\n",
              "      <td>-100.34</td>\n",
              "      <td>18</td>\n",
              "      <td>12</td>\n",
              "      <td>6.51</td>\n",
              "      <td>22851.60</td>\n",
              "      <td>758.54</td>\n",
              "    </tr>\n",
              "    <tr>\n",
              "      <th>4</th>\n",
              "      <td>10.12</td>\n",
              "      <td>-387.99</td>\n",
              "      <td>-7.11</td>\n",
              "      <td>2800.89</td>\n",
              "      <td>Very low</td>\n",
              "      <td>Europe</td>\n",
              "      <td>1.39</td>\n",
              "      <td>-12.78</td>\n",
              "      <td>-265.16</td>\n",
              "      <td>-1419.76</td>\n",
              "      <td>-137.49</td>\n",
              "      <td>0</td>\n",
              "      <td>14</td>\n",
              "      <td>14.22</td>\n",
              "      <td>24396.09</td>\n",
              "      <td>0.68</td>\n",
              "    </tr>\n",
              "    <tr>\n",
              "      <th>5</th>\n",
              "      <td>12.04</td>\n",
              "      <td>-238.83</td>\n",
              "      <td>-10.26</td>\n",
              "      <td>3570.12</td>\n",
              "      <td>Very high</td>\n",
              "      <td>USA</td>\n",
              "      <td>6.03</td>\n",
              "      <td>-19.64</td>\n",
              "      <td>-192.82</td>\n",
              "      <td>-2083.90</td>\n",
              "      <td>-146.19</td>\n",
              "      <td>12</td>\n",
              "      <td>10</td>\n",
              "      <td>13.80</td>\n",
              "      <td>3552.57</td>\n",
              "      <td>23.34</td>\n",
              "    </tr>\n",
              "    <tr>\n",
              "      <th>6</th>\n",
              "      <td>13.67</td>\n",
              "      <td>-166.41</td>\n",
              "      <td>-5.10</td>\n",
              "      <td>1781.91</td>\n",
              "      <td>High</td>\n",
              "      <td>Rest</td>\n",
              "      <td>1.60</td>\n",
              "      <td>-29.18</td>\n",
              "      <td>-101.34</td>\n",
              "      <td>-492.38</td>\n",
              "      <td>-194.68</td>\n",
              "      <td>12</td>\n",
              "      <td>6</td>\n",
              "      <td>12.93</td>\n",
              "      <td>7142.04</td>\n",
              "      <td>0.02</td>\n",
              "    </tr>\n",
              "    <tr>\n",
              "      <th>7</th>\n",
              "      <td>6.94</td>\n",
              "      <td>-221.73</td>\n",
              "      <td>-5.49</td>\n",
              "      <td>2853.51</td>\n",
              "      <td>Medium</td>\n",
              "      <td>UK</td>\n",
              "      <td>9.24</td>\n",
              "      <td>-18.92</td>\n",
              "      <td>-274.56</td>\n",
              "      <td>-1583.56</td>\n",
              "      <td>-114.48</td>\n",
              "      <td>9</td>\n",
              "      <td>10</td>\n",
              "      <td>9.54</td>\n",
              "      <td>35520.24</td>\n",
              "      <td>775.90</td>\n",
              "    </tr>\n",
              "    <tr>\n",
              "      <th>8</th>\n",
              "      <td>8.42</td>\n",
              "      <td>-243.96</td>\n",
              "      <td>-11.00</td>\n",
              "      <td>2101.41</td>\n",
              "      <td>High</td>\n",
              "      <td>UK</td>\n",
              "      <td>7.90</td>\n",
              "      <td>-18.76</td>\n",
              "      <td>-192.14</td>\n",
              "      <td>-1070.52</td>\n",
              "      <td>-25.32</td>\n",
              "      <td>6</td>\n",
              "      <td>12</td>\n",
              "      <td>5.55</td>\n",
              "      <td>6417.63</td>\n",
              "      <td>0.18</td>\n",
              "    </tr>\n",
              "    <tr>\n",
              "      <th>9</th>\n",
              "      <td>10.95</td>\n",
              "      <td>-507.63</td>\n",
              "      <td>-12.12</td>\n",
              "      <td>3345.48</td>\n",
              "      <td>Very high</td>\n",
              "      <td>USA</td>\n",
              "      <td>8.08</td>\n",
              "      <td>-20.08</td>\n",
              "      <td>-266.32</td>\n",
              "      <td>-1312.92</td>\n",
              "      <td>-164.27</td>\n",
              "      <td>9</td>\n",
              "      <td>12</td>\n",
              "      <td>15.33</td>\n",
              "      <td>1676.01</td>\n",
              "      <td>2.22</td>\n",
              "    </tr>\n",
              "  </tbody>\n",
              "</table>\n",
              "</div>"
            ],
            "text/plain": [
              "      F1      F2     F3       F4         F5  ... F12  F13    F14       F15     F16\n",
              "0  11.23 -195.54  -1.19  1468.56  Very high  ...  12   10  12.39  -3480.87    0.04\n",
              "1  14.89 -426.24  -1.18  3049.08  Very high  ...   9    8   5.19   8831.19   43.68\n",
              "2   6.76 -493.47 -13.55  3197.13   Very low  ...  12   10   3.30  -4468.44    0.52\n",
              "3  15.12 -320.04 -12.17  2436.00   Very low  ...  18   12   6.51  22851.60  758.54\n",
              "4  10.12 -387.99  -7.11  2800.89   Very low  ...   0   14  14.22  24396.09    0.68\n",
              "5  12.04 -238.83 -10.26  3570.12  Very high  ...  12   10  13.80   3552.57   23.34\n",
              "6  13.67 -166.41  -5.10  1781.91       High  ...  12    6  12.93   7142.04    0.02\n",
              "7   6.94 -221.73  -5.49  2853.51     Medium  ...   9   10   9.54  35520.24  775.90\n",
              "8   8.42 -243.96 -11.00  2101.41       High  ...   6   12   5.55   6417.63    0.18\n",
              "9  10.95 -507.63 -12.12  3345.48  Very high  ...   9   12  15.33   1676.01    2.22\n",
              "\n",
              "[10 rows x 16 columns]"
            ]
          },
          "metadata": {
            "tags": []
          },
          "execution_count": 24
        }
      ]
    },
    {
      "cell_type": "code",
      "metadata": {
        "id": "eLgUyP08_OXk",
        "colab": {
          "base_uri": "https://localhost:8080/",
          "height": 204
        },
        "outputId": "8f54aae3-1eec-45e5-d1ab-01b623ecb73c"
      },
      "source": [
        "test_predictions = gs_svr.predict(test_data_without_target)\n",
        "test_data_original.loc[:, 'Target'] = test_predictions\n",
        "test_data_original.head()"
      ],
      "execution_count": 25,
      "outputs": [
        {
          "output_type": "execute_result",
          "data": {
            "text/html": [
              "<div>\n",
              "<style scoped>\n",
              "    .dataframe tbody tr th:only-of-type {\n",
              "        vertical-align: middle;\n",
              "    }\n",
              "\n",
              "    .dataframe tbody tr th {\n",
              "        vertical-align: top;\n",
              "    }\n",
              "\n",
              "    .dataframe thead th {\n",
              "        text-align: right;\n",
              "    }\n",
              "</style>\n",
              "<table border=\"1\" class=\"dataframe\">\n",
              "  <thead>\n",
              "    <tr style=\"text-align: right;\">\n",
              "      <th></th>\n",
              "      <th>F1</th>\n",
              "      <th>F2</th>\n",
              "      <th>F3</th>\n",
              "      <th>F4</th>\n",
              "      <th>F5</th>\n",
              "      <th>F6</th>\n",
              "      <th>F7</th>\n",
              "      <th>F8</th>\n",
              "      <th>F9</th>\n",
              "      <th>F10</th>\n",
              "      <th>F11</th>\n",
              "      <th>F12</th>\n",
              "      <th>F13</th>\n",
              "      <th>F14</th>\n",
              "      <th>F15</th>\n",
              "      <th>F16</th>\n",
              "      <th>Target</th>\n",
              "    </tr>\n",
              "  </thead>\n",
              "  <tbody>\n",
              "    <tr>\n",
              "      <th>0</th>\n",
              "      <td>11.23</td>\n",
              "      <td>-195.54</td>\n",
              "      <td>-1.19</td>\n",
              "      <td>1468.56</td>\n",
              "      <td>Very high</td>\n",
              "      <td>USA</td>\n",
              "      <td>8.97</td>\n",
              "      <td>-23.62</td>\n",
              "      <td>-249.36</td>\n",
              "      <td>-854.18</td>\n",
              "      <td>-155.20</td>\n",
              "      <td>12</td>\n",
              "      <td>10</td>\n",
              "      <td>12.39</td>\n",
              "      <td>-3480.87</td>\n",
              "      <td>0.04</td>\n",
              "      <td>1074.170777</td>\n",
              "    </tr>\n",
              "    <tr>\n",
              "      <th>1</th>\n",
              "      <td>14.89</td>\n",
              "      <td>-426.24</td>\n",
              "      <td>-1.18</td>\n",
              "      <td>3049.08</td>\n",
              "      <td>Very high</td>\n",
              "      <td>USA</td>\n",
              "      <td>6.33</td>\n",
              "      <td>-39.26</td>\n",
              "      <td>-226.26</td>\n",
              "      <td>-2126.68</td>\n",
              "      <td>-159.42</td>\n",
              "      <td>9</td>\n",
              "      <td>8</td>\n",
              "      <td>5.19</td>\n",
              "      <td>8831.19</td>\n",
              "      <td>43.68</td>\n",
              "      <td>1482.710910</td>\n",
              "    </tr>\n",
              "    <tr>\n",
              "      <th>2</th>\n",
              "      <td>6.76</td>\n",
              "      <td>-493.47</td>\n",
              "      <td>-13.55</td>\n",
              "      <td>3197.13</td>\n",
              "      <td>Very low</td>\n",
              "      <td>USA</td>\n",
              "      <td>1.77</td>\n",
              "      <td>-25.84</td>\n",
              "      <td>-238.30</td>\n",
              "      <td>-2270.78</td>\n",
              "      <td>-212.73</td>\n",
              "      <td>12</td>\n",
              "      <td>10</td>\n",
              "      <td>3.30</td>\n",
              "      <td>-4468.44</td>\n",
              "      <td>0.52</td>\n",
              "      <td>595.900228</td>\n",
              "    </tr>\n",
              "    <tr>\n",
              "      <th>3</th>\n",
              "      <td>15.12</td>\n",
              "      <td>-320.04</td>\n",
              "      <td>-12.17</td>\n",
              "      <td>2436.00</td>\n",
              "      <td>Very low</td>\n",
              "      <td>Rest</td>\n",
              "      <td>5.42</td>\n",
              "      <td>-17.32</td>\n",
              "      <td>-203.64</td>\n",
              "      <td>-304.24</td>\n",
              "      <td>-100.34</td>\n",
              "      <td>18</td>\n",
              "      <td>12</td>\n",
              "      <td>6.51</td>\n",
              "      <td>22851.60</td>\n",
              "      <td>758.54</td>\n",
              "      <td>495.637499</td>\n",
              "    </tr>\n",
              "    <tr>\n",
              "      <th>4</th>\n",
              "      <td>10.12</td>\n",
              "      <td>-387.99</td>\n",
              "      <td>-7.11</td>\n",
              "      <td>2800.89</td>\n",
              "      <td>Very low</td>\n",
              "      <td>Europe</td>\n",
              "      <td>1.39</td>\n",
              "      <td>-12.78</td>\n",
              "      <td>-265.16</td>\n",
              "      <td>-1419.76</td>\n",
              "      <td>-137.49</td>\n",
              "      <td>0</td>\n",
              "      <td>14</td>\n",
              "      <td>14.22</td>\n",
              "      <td>24396.09</td>\n",
              "      <td>0.68</td>\n",
              "      <td>-375.290873</td>\n",
              "    </tr>\n",
              "  </tbody>\n",
              "</table>\n",
              "</div>"
            ],
            "text/plain": [
              "      F1      F2     F3       F4  ...    F14       F15     F16       Target\n",
              "0  11.23 -195.54  -1.19  1468.56  ...  12.39  -3480.87    0.04  1074.170777\n",
              "1  14.89 -426.24  -1.18  3049.08  ...   5.19   8831.19   43.68  1482.710910\n",
              "2   6.76 -493.47 -13.55  3197.13  ...   3.30  -4468.44    0.52   595.900228\n",
              "3  15.12 -320.04 -12.17  2436.00  ...   6.51  22851.60  758.54   495.637499\n",
              "4  10.12 -387.99  -7.11  2800.89  ...  14.22  24396.09    0.68  -375.290873\n",
              "\n",
              "[5 rows x 17 columns]"
            ]
          },
          "metadata": {
            "tags": []
          },
          "execution_count": 25
        }
      ]
    },
    {
      "cell_type": "code",
      "metadata": {
        "id": "Nn22zHtv_OXk"
      },
      "source": [
        ""
      ],
      "execution_count": null,
      "outputs": []
    },
    {
      "cell_type": "code",
      "metadata": {
        "id": "1mocUGfB_OXl"
      },
      "source": [
        ""
      ],
      "execution_count": null,
      "outputs": []
    }
  ]
}